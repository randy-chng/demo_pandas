{
 "cells": [
  {
   "cell_type": "code",
   "execution_count": 28,
   "metadata": {},
   "outputs": [],
   "source": [
    "import os\n",
    "import pandas as pd\n",
    "import re"
   ]
  },
  {
   "cell_type": "markdown",
   "metadata": {},
   "source": [
    "#### Get current working directory"
   ]
  },
  {
   "cell_type": "code",
   "execution_count": 2,
   "metadata": {},
   "outputs": [
    {
     "data": {
      "text/plain": [
       "'C:\\\\Users\\\\randy\\\\Desktop\\\\Personal\\\\github\\\\demo_pandas'"
      ]
     },
     "execution_count": 2,
     "metadata": {},
     "output_type": "execute_result"
    }
   ],
   "source": [
    "cwd = os.getcwd()\n",
    "\n",
    "cwd"
   ]
  },
  {
   "cell_type": "markdown",
   "metadata": {},
   "source": [
    "#### Read local csv into pandas"
   ]
  },
  {
   "cell_type": "code",
   "execution_count": 3,
   "metadata": {},
   "outputs": [],
   "source": [
    "df = pd.read_csv(\n",
    "    os.path.join(\n",
    "        'file://',\n",
    "        cwd,\n",
    "        'bank.csv'\n",
    "    ),\n",
    "    sep=','\n",
    ")"
   ]
  },
  {
   "cell_type": "markdown",
   "metadata": {},
   "source": [
    "#### Analyse schema"
   ]
  },
  {
   "cell_type": "code",
   "execution_count": 4,
   "metadata": {},
   "outputs": [
    {
     "data": {
      "text/plain": [
       "age           int64\n",
       "job          object\n",
       "marital      object\n",
       "education    object\n",
       "default      object\n",
       "balance       int64\n",
       "housing      object\n",
       "loan         object\n",
       "contact      object\n",
       "day           int64\n",
       "month        object\n",
       "duration      int64\n",
       "campaign      int64\n",
       "pdays         int64\n",
       "previous      int64\n",
       "poutcome     object\n",
       "deposit      object\n",
       "dtype: object"
      ]
     },
     "execution_count": 4,
     "metadata": {},
     "output_type": "execute_result"
    }
   ],
   "source": [
    "df.dtypes"
   ]
  },
  {
   "cell_type": "markdown",
   "metadata": {},
   "source": [
    "#### Count records"
   ]
  },
  {
   "cell_type": "code",
   "execution_count": 5,
   "metadata": {},
   "outputs": [
    {
     "data": {
      "text/plain": [
       "(11162, 17)"
      ]
     },
     "execution_count": 5,
     "metadata": {},
     "output_type": "execute_result"
    }
   ],
   "source": [
    "df.shape"
   ]
  },
  {
   "cell_type": "markdown",
   "metadata": {},
   "source": [
    "#### Sample records"
   ]
  },
  {
   "cell_type": "code",
   "execution_count": 6,
   "metadata": {},
   "outputs": [
    {
     "data": {
      "text/html": [
       "<div>\n",
       "<style scoped>\n",
       "    .dataframe tbody tr th:only-of-type {\n",
       "        vertical-align: middle;\n",
       "    }\n",
       "\n",
       "    .dataframe tbody tr th {\n",
       "        vertical-align: top;\n",
       "    }\n",
       "\n",
       "    .dataframe thead th {\n",
       "        text-align: right;\n",
       "    }\n",
       "</style>\n",
       "<table border=\"1\" class=\"dataframe\">\n",
       "  <thead>\n",
       "    <tr style=\"text-align: right;\">\n",
       "      <th></th>\n",
       "      <th>age</th>\n",
       "      <th>job</th>\n",
       "      <th>marital</th>\n",
       "      <th>education</th>\n",
       "      <th>default</th>\n",
       "      <th>balance</th>\n",
       "      <th>housing</th>\n",
       "      <th>loan</th>\n",
       "      <th>contact</th>\n",
       "      <th>day</th>\n",
       "      <th>month</th>\n",
       "      <th>duration</th>\n",
       "      <th>campaign</th>\n",
       "      <th>pdays</th>\n",
       "      <th>previous</th>\n",
       "      <th>poutcome</th>\n",
       "      <th>deposit</th>\n",
       "    </tr>\n",
       "  </thead>\n",
       "  <tbody>\n",
       "    <tr>\n",
       "      <th>0</th>\n",
       "      <td>59</td>\n",
       "      <td>admin.</td>\n",
       "      <td>married</td>\n",
       "      <td>secondary</td>\n",
       "      <td>no</td>\n",
       "      <td>2343</td>\n",
       "      <td>yes</td>\n",
       "      <td>no</td>\n",
       "      <td>unknown</td>\n",
       "      <td>5</td>\n",
       "      <td>may</td>\n",
       "      <td>1042</td>\n",
       "      <td>1</td>\n",
       "      <td>-1</td>\n",
       "      <td>0</td>\n",
       "      <td>unknown</td>\n",
       "      <td>yes</td>\n",
       "    </tr>\n",
       "    <tr>\n",
       "      <th>1</th>\n",
       "      <td>56</td>\n",
       "      <td>admin.</td>\n",
       "      <td>married</td>\n",
       "      <td>secondary</td>\n",
       "      <td>no</td>\n",
       "      <td>45</td>\n",
       "      <td>no</td>\n",
       "      <td>no</td>\n",
       "      <td>unknown</td>\n",
       "      <td>5</td>\n",
       "      <td>may</td>\n",
       "      <td>1467</td>\n",
       "      <td>1</td>\n",
       "      <td>-1</td>\n",
       "      <td>0</td>\n",
       "      <td>unknown</td>\n",
       "      <td>yes</td>\n",
       "    </tr>\n",
       "    <tr>\n",
       "      <th>2</th>\n",
       "      <td>41</td>\n",
       "      <td>technician</td>\n",
       "      <td>married</td>\n",
       "      <td>secondary</td>\n",
       "      <td>no</td>\n",
       "      <td>1270</td>\n",
       "      <td>yes</td>\n",
       "      <td>no</td>\n",
       "      <td>unknown</td>\n",
       "      <td>5</td>\n",
       "      <td>may</td>\n",
       "      <td>1389</td>\n",
       "      <td>1</td>\n",
       "      <td>-1</td>\n",
       "      <td>0</td>\n",
       "      <td>unknown</td>\n",
       "      <td>yes</td>\n",
       "    </tr>\n",
       "  </tbody>\n",
       "</table>\n",
       "</div>"
      ],
      "text/plain": [
       "   age         job  marital  education default  balance housing loan  contact  \\\n",
       "0   59      admin.  married  secondary      no     2343     yes   no  unknown   \n",
       "1   56      admin.  married  secondary      no       45      no   no  unknown   \n",
       "2   41  technician  married  secondary      no     1270     yes   no  unknown   \n",
       "\n",
       "   day month  duration  campaign  pdays  previous poutcome deposit  \n",
       "0    5   may      1042         1     -1         0  unknown     yes  \n",
       "1    5   may      1467         1     -1         0  unknown     yes  \n",
       "2    5   may      1389         1     -1         0  unknown     yes  "
      ]
     },
     "execution_count": 6,
     "metadata": {},
     "output_type": "execute_result"
    }
   ],
   "source": [
    "df.head(3)"
   ]
  },
  {
   "cell_type": "markdown",
   "metadata": {},
   "source": [
    "#### Get distinct value of each column"
   ]
  },
  {
   "cell_type": "code",
   "execution_count": 7,
   "metadata": {},
   "outputs": [
    {
     "name": "stdout",
     "output_type": "stream",
     "text": [
      "Analysing age\n",
      "Analysing job\n",
      "Analysing marital\n",
      "Analysing education\n",
      "Analysing default\n",
      "Analysing balance\n",
      "Analysing housing\n",
      "Analysing loan\n",
      "Analysing contact\n",
      "Analysing day\n",
      "Analysing month\n",
      "Analysing duration\n",
      "Analysing campaign\n",
      "Analysing pdays\n",
      "Analysing previous\n",
      "Analysing poutcome\n",
      "Analysing deposit\n"
     ]
    }
   ],
   "source": [
    "col_distinct_val = {\n",
    "    col: None for col in df.columns\n",
    "}\n",
    "\n",
    "for col in col_distinct_val.keys():\n",
    "\n",
    "    print('Analysing', col)\n",
    "    col_distinct_val[col] = [i for i in df[col].unique()]"
   ]
  },
  {
   "cell_type": "markdown",
   "metadata": {},
   "source": [
    "#### Identify categorical and numerical columns"
   ]
  },
  {
   "cell_type": "code",
   "execution_count": 8,
   "metadata": {},
   "outputs": [
    {
     "name": "stdout",
     "output_type": "stream",
     "text": [
      "Analysing age\n",
      "Analysing job\n",
      "Analysing marital\n",
      "Analysing education\n",
      "Analysing default\n",
      "Analysing balance\n",
      "Analysing housing\n",
      "Analysing loan\n",
      "Analysing contact\n",
      "Analysing day\n",
      "Analysing month\n",
      "Analysing duration\n",
      "Analysing campaign\n",
      "Analysing pdays\n",
      "Analysing previous\n",
      "Analysing poutcome\n",
      "Analysing deposit\n"
     ]
    }
   ],
   "source": [
    "def is_number(value):\n",
    "    \n",
    "    try:\n",
    "        float(value)\n",
    "        return True\n",
    "    except Exception:\n",
    "        return False\n",
    "\n",
    "numerical_cols = []\n",
    "categorical_cols = []\n",
    "\n",
    "for col, values in col_distinct_val.items():\n",
    "\n",
    "    print('Analysing', col)\n",
    "    test = {is_number(value) for value in values}\n",
    "\n",
    "    if test == {True}:\n",
    "        numerical_cols.append(col)\n",
    "    else:\n",
    "        categorical_cols.append(col)"
   ]
  },
  {
   "cell_type": "code",
   "execution_count": 9,
   "metadata": {},
   "outputs": [
    {
     "name": "stdout",
     "output_type": "stream",
     "text": [
      "Numerical: ['age', 'balance', 'day', 'duration', 'campaign', 'pdays', 'previous'] \n",
      "\n",
      "Categorical: ['job', 'marital', 'education', 'default', 'housing', 'loan', 'contact', 'month', 'poutcome', 'deposit']\n"
     ]
    }
   ],
   "source": [
    "print('Numerical:', numerical_cols, '\\n')\n",
    "print('Categorical:', categorical_cols)"
   ]
  },
  {
   "cell_type": "markdown",
   "metadata": {},
   "source": [
    "#### Convert numerical column type to numerical"
   ]
  },
  {
   "cell_type": "code",
   "execution_count": 10,
   "metadata": {},
   "outputs": [
    {
     "data": {
      "text/plain": [
       "age          float32\n",
       "job           object\n",
       "marital       object\n",
       "education     object\n",
       "default       object\n",
       "balance      float32\n",
       "housing       object\n",
       "loan          object\n",
       "contact       object\n",
       "day          float32\n",
       "month         object\n",
       "duration     float32\n",
       "campaign     float32\n",
       "pdays        float32\n",
       "previous     float32\n",
       "poutcome      object\n",
       "deposit       object\n",
       "dtype: object"
      ]
     },
     "execution_count": 10,
     "metadata": {},
     "output_type": "execute_result"
    }
   ],
   "source": [
    "for col in numerical_cols:\n",
    "\n",
    "    df[col] = pd.to_numeric(\n",
    "        df[col],\n",
    "        downcast='float'\n",
    "    )\n",
    "    \n",
    "df.dtypes"
   ]
  },
  {
   "cell_type": "markdown",
   "metadata": {},
   "source": [
    "#### Summary of numerical columns"
   ]
  },
  {
   "cell_type": "code",
   "execution_count": 11,
   "metadata": {},
   "outputs": [
    {
     "data": {
      "text/html": [
       "<div>\n",
       "<style scoped>\n",
       "    .dataframe tbody tr th:only-of-type {\n",
       "        vertical-align: middle;\n",
       "    }\n",
       "\n",
       "    .dataframe tbody tr th {\n",
       "        vertical-align: top;\n",
       "    }\n",
       "\n",
       "    .dataframe thead th {\n",
       "        text-align: right;\n",
       "    }\n",
       "</style>\n",
       "<table border=\"1\" class=\"dataframe\">\n",
       "  <thead>\n",
       "    <tr style=\"text-align: right;\">\n",
       "      <th></th>\n",
       "      <th>age</th>\n",
       "      <th>balance</th>\n",
       "      <th>day</th>\n",
       "      <th>duration</th>\n",
       "      <th>campaign</th>\n",
       "      <th>pdays</th>\n",
       "      <th>previous</th>\n",
       "    </tr>\n",
       "  </thead>\n",
       "  <tbody>\n",
       "    <tr>\n",
       "      <th>count</th>\n",
       "      <td>11162.000000</td>\n",
       "      <td>11162.000000</td>\n",
       "      <td>11162.000000</td>\n",
       "      <td>11162.000000</td>\n",
       "      <td>11162.000000</td>\n",
       "      <td>11162.000000</td>\n",
       "      <td>11162.000000</td>\n",
       "    </tr>\n",
       "    <tr>\n",
       "      <th>mean</th>\n",
       "      <td>41.231949</td>\n",
       "      <td>1528.538574</td>\n",
       "      <td>15.658036</td>\n",
       "      <td>371.993805</td>\n",
       "      <td>2.508421</td>\n",
       "      <td>51.330406</td>\n",
       "      <td>0.832557</td>\n",
       "    </tr>\n",
       "    <tr>\n",
       "      <th>std</th>\n",
       "      <td>11.913369</td>\n",
       "      <td>3225.413330</td>\n",
       "      <td>8.420739</td>\n",
       "      <td>347.128387</td>\n",
       "      <td>2.722077</td>\n",
       "      <td>108.758278</td>\n",
       "      <td>2.292007</td>\n",
       "    </tr>\n",
       "    <tr>\n",
       "      <th>min</th>\n",
       "      <td>18.000000</td>\n",
       "      <td>-6847.000000</td>\n",
       "      <td>1.000000</td>\n",
       "      <td>2.000000</td>\n",
       "      <td>1.000000</td>\n",
       "      <td>-1.000000</td>\n",
       "      <td>0.000000</td>\n",
       "    </tr>\n",
       "    <tr>\n",
       "      <th>25%</th>\n",
       "      <td>32.000000</td>\n",
       "      <td>122.000000</td>\n",
       "      <td>8.000000</td>\n",
       "      <td>138.000000</td>\n",
       "      <td>1.000000</td>\n",
       "      <td>-1.000000</td>\n",
       "      <td>0.000000</td>\n",
       "    </tr>\n",
       "    <tr>\n",
       "      <th>50%</th>\n",
       "      <td>39.000000</td>\n",
       "      <td>550.000000</td>\n",
       "      <td>15.000000</td>\n",
       "      <td>255.000000</td>\n",
       "      <td>2.000000</td>\n",
       "      <td>-1.000000</td>\n",
       "      <td>0.000000</td>\n",
       "    </tr>\n",
       "    <tr>\n",
       "      <th>75%</th>\n",
       "      <td>49.000000</td>\n",
       "      <td>1708.000000</td>\n",
       "      <td>22.000000</td>\n",
       "      <td>496.000000</td>\n",
       "      <td>3.000000</td>\n",
       "      <td>20.750000</td>\n",
       "      <td>1.000000</td>\n",
       "    </tr>\n",
       "    <tr>\n",
       "      <th>max</th>\n",
       "      <td>95.000000</td>\n",
       "      <td>81204.000000</td>\n",
       "      <td>31.000000</td>\n",
       "      <td>3881.000000</td>\n",
       "      <td>63.000000</td>\n",
       "      <td>854.000000</td>\n",
       "      <td>58.000000</td>\n",
       "    </tr>\n",
       "  </tbody>\n",
       "</table>\n",
       "</div>"
      ],
      "text/plain": [
       "                age       balance           day      duration      campaign  \\\n",
       "count  11162.000000  11162.000000  11162.000000  11162.000000  11162.000000   \n",
       "mean      41.231949   1528.538574     15.658036    371.993805      2.508421   \n",
       "std       11.913369   3225.413330      8.420739    347.128387      2.722077   \n",
       "min       18.000000  -6847.000000      1.000000      2.000000      1.000000   \n",
       "25%       32.000000    122.000000      8.000000    138.000000      1.000000   \n",
       "50%       39.000000    550.000000     15.000000    255.000000      2.000000   \n",
       "75%       49.000000   1708.000000     22.000000    496.000000      3.000000   \n",
       "max       95.000000  81204.000000     31.000000   3881.000000     63.000000   \n",
       "\n",
       "              pdays      previous  \n",
       "count  11162.000000  11162.000000  \n",
       "mean      51.330406      0.832557  \n",
       "std      108.758278      2.292007  \n",
       "min       -1.000000      0.000000  \n",
       "25%       -1.000000      0.000000  \n",
       "50%       -1.000000      0.000000  \n",
       "75%       20.750000      1.000000  \n",
       "max      854.000000     58.000000  "
      ]
     },
     "execution_count": 11,
     "metadata": {},
     "output_type": "execute_result"
    }
   ],
   "source": [
    "df[numerical_cols].describe()"
   ]
  },
  {
   "cell_type": "markdown",
   "metadata": {},
   "source": [
    "#### Summary of categorical columns"
   ]
  },
  {
   "cell_type": "code",
   "execution_count": 12,
   "metadata": {},
   "outputs": [
    {
     "name": "stdout",
     "output_type": "stream",
     "text": [
      "job >> ['admin.', 'technician', 'services', 'management', 'retired', 'blue-collar', 'unemployed', 'entrepreneur', 'housemaid', 'unknown', 'self-employed', 'student'] \n",
      "\n",
      "marital >> ['married', 'single', 'divorced'] \n",
      "\n",
      "education >> ['secondary', 'tertiary', 'primary', 'unknown'] \n",
      "\n",
      "default >> ['no', 'yes'] \n",
      "\n",
      "housing >> ['yes', 'no'] \n",
      "\n",
      "loan >> ['no', 'yes'] \n",
      "\n",
      "contact >> ['unknown', 'cellular', 'telephone'] \n",
      "\n",
      "month >> ['may', 'jun', 'jul', 'aug', 'oct', 'nov', 'dec', 'jan', 'feb', 'mar', 'apr', 'sep'] \n",
      "\n",
      "poutcome >> ['unknown', 'other', 'failure', 'success'] \n",
      "\n",
      "deposit >> ['yes', 'no'] \n",
      "\n"
     ]
    }
   ],
   "source": [
    "for col in categorical_cols:\n",
    "\n",
    "    print(col, '>>', col_distinct_val[col], '\\n')"
   ]
  },
  {
   "cell_type": "markdown",
   "metadata": {},
   "source": [
    "#### Standardise value of existing column"
   ]
  },
  {
   "cell_type": "code",
   "execution_count": 13,
   "metadata": {},
   "outputs": [
    {
     "data": {
      "text/plain": [
       "array(['unknown', 'failure', 'success'], dtype=object)"
      ]
     },
     "execution_count": 13,
     "metadata": {},
     "output_type": "execute_result"
    }
   ],
   "source": [
    "df['poutcome'] = df['poutcome'].apply(\n",
    "    lambda x: 'unknown' if x == 'other' else x\n",
    ")\n",
    "\n",
    "df['poutcome'].unique()"
   ]
  },
  {
   "cell_type": "markdown",
   "metadata": {},
   "source": [
    "#### Balances summary by education and marital"
   ]
  },
  {
   "cell_type": "code",
   "execution_count": 14,
   "metadata": {},
   "outputs": [
    {
     "data": {
      "text/html": [
       "<div>\n",
       "<style scoped>\n",
       "    .dataframe tbody tr th:only-of-type {\n",
       "        vertical-align: middle;\n",
       "    }\n",
       "\n",
       "    .dataframe tbody tr th {\n",
       "        vertical-align: top;\n",
       "    }\n",
       "\n",
       "    .dataframe thead th {\n",
       "        text-align: right;\n",
       "    }\n",
       "</style>\n",
       "<table border=\"1\" class=\"dataframe\">\n",
       "  <thead>\n",
       "    <tr style=\"text-align: right;\">\n",
       "      <th></th>\n",
       "      <th>education</th>\n",
       "      <th>marital</th>\n",
       "      <th>sum</th>\n",
       "      <th>mean</th>\n",
       "      <th>min</th>\n",
       "      <th>max</th>\n",
       "    </tr>\n",
       "  </thead>\n",
       "  <tbody>\n",
       "    <tr>\n",
       "      <th>2</th>\n",
       "      <td>primary</td>\n",
       "      <td>single</td>\n",
       "      <td>271800.0</td>\n",
       "      <td>1379.695435</td>\n",
       "      <td>-887.0</td>\n",
       "      <td>26965.0</td>\n",
       "    </tr>\n",
       "    <tr>\n",
       "      <th>1</th>\n",
       "      <td>primary</td>\n",
       "      <td>married</td>\n",
       "      <td>1723931.0</td>\n",
       "      <td>1568.635986</td>\n",
       "      <td>-1489.0</td>\n",
       "      <td>66653.0</td>\n",
       "    </tr>\n",
       "    <tr>\n",
       "      <th>0</th>\n",
       "      <td>primary</td>\n",
       "      <td>divorced</td>\n",
       "      <td>288816.0</td>\n",
       "      <td>1415.764648</td>\n",
       "      <td>-779.0</td>\n",
       "      <td>37127.0</td>\n",
       "    </tr>\n",
       "    <tr>\n",
       "      <th>5</th>\n",
       "      <td>secondary</td>\n",
       "      <td>single</td>\n",
       "      <td>1942320.0</td>\n",
       "      <td>1139.859131</td>\n",
       "      <td>-1139.0</td>\n",
       "      <td>56831.0</td>\n",
       "    </tr>\n",
       "    <tr>\n",
       "      <th>4</th>\n",
       "      <td>secondary</td>\n",
       "      <td>married</td>\n",
       "      <td>4500996.0</td>\n",
       "      <td>1442.626953</td>\n",
       "      <td>-1965.0</td>\n",
       "      <td>81204.0</td>\n",
       "    </tr>\n",
       "    <tr>\n",
       "      <th>3</th>\n",
       "      <td>secondary</td>\n",
       "      <td>divorced</td>\n",
       "      <td>656210.0</td>\n",
       "      <td>1006.457031</td>\n",
       "      <td>-934.0</td>\n",
       "      <td>12039.0</td>\n",
       "    </tr>\n",
       "    <tr>\n",
       "      <th>8</th>\n",
       "      <td>tertiary</td>\n",
       "      <td>single</td>\n",
       "      <td>2637784.0</td>\n",
       "      <td>1806.701416</td>\n",
       "      <td>-880.0</td>\n",
       "      <td>36252.0</td>\n",
       "    </tr>\n",
       "    <tr>\n",
       "      <th>7</th>\n",
       "      <td>tertiary</td>\n",
       "      <td>married</td>\n",
       "      <td>3433041.0</td>\n",
       "      <td>1862.746094</td>\n",
       "      <td>-6847.0</td>\n",
       "      <td>51439.0</td>\n",
       "    </tr>\n",
       "    <tr>\n",
       "      <th>6</th>\n",
       "      <td>tertiary</td>\n",
       "      <td>divorced</td>\n",
       "      <td>738586.0</td>\n",
       "      <td>1913.435181</td>\n",
       "      <td>-2282.0</td>\n",
       "      <td>52587.0</td>\n",
       "    </tr>\n",
       "    <tr>\n",
       "      <th>11</th>\n",
       "      <td>unknown</td>\n",
       "      <td>single</td>\n",
       "      <td>274720.0</td>\n",
       "      <td>1749.808960</td>\n",
       "      <td>-461.0</td>\n",
       "      <td>45248.0</td>\n",
       "    </tr>\n",
       "    <tr>\n",
       "      <th>10</th>\n",
       "      <td>unknown</td>\n",
       "      <td>married</td>\n",
       "      <td>503172.0</td>\n",
       "      <td>1741.079590</td>\n",
       "      <td>-1137.0</td>\n",
       "      <td>23592.0</td>\n",
       "    </tr>\n",
       "    <tr>\n",
       "      <th>9</th>\n",
       "      <td>unknown</td>\n",
       "      <td>divorced</td>\n",
       "      <td>90171.0</td>\n",
       "      <td>1768.058838</td>\n",
       "      <td>-701.0</td>\n",
       "      <td>9224.0</td>\n",
       "    </tr>\n",
       "  </tbody>\n",
       "</table>\n",
       "</div>"
      ],
      "text/plain": [
       "    education   marital        sum         mean     min      max\n",
       "2     primary    single   271800.0  1379.695435  -887.0  26965.0\n",
       "1     primary   married  1723931.0  1568.635986 -1489.0  66653.0\n",
       "0     primary  divorced   288816.0  1415.764648  -779.0  37127.0\n",
       "5   secondary    single  1942320.0  1139.859131 -1139.0  56831.0\n",
       "4   secondary   married  4500996.0  1442.626953 -1965.0  81204.0\n",
       "3   secondary  divorced   656210.0  1006.457031  -934.0  12039.0\n",
       "8    tertiary    single  2637784.0  1806.701416  -880.0  36252.0\n",
       "7    tertiary   married  3433041.0  1862.746094 -6847.0  51439.0\n",
       "6    tertiary  divorced   738586.0  1913.435181 -2282.0  52587.0\n",
       "11    unknown    single   274720.0  1749.808960  -461.0  45248.0\n",
       "10    unknown   married   503172.0  1741.079590 -1137.0  23592.0\n",
       "9     unknown  divorced    90171.0  1768.058838  -701.0   9224.0"
      ]
     },
     "execution_count": 14,
     "metadata": {},
     "output_type": "execute_result"
    }
   ],
   "source": [
    "df.groupby(\n",
    "    ['education', 'marital']\n",
    ")['balance'].agg(\n",
    "    ['sum', 'mean', 'min', 'max']\n",
    ").reset_index().sort_values(\n",
    "    by=['education', 'marital'],\n",
    "    ascending=[True, False]\n",
    ")"
   ]
  },
  {
   "cell_type": "markdown",
   "metadata": {},
   "source": [
    "#### Top 3 balance by marital"
   ]
  },
  {
   "cell_type": "code",
   "execution_count": 15,
   "metadata": {},
   "outputs": [
    {
     "data": {
      "text/html": [
       "<div>\n",
       "<style scoped>\n",
       "    .dataframe tbody tr th:only-of-type {\n",
       "        vertical-align: middle;\n",
       "    }\n",
       "\n",
       "    .dataframe tbody tr th {\n",
       "        vertical-align: top;\n",
       "    }\n",
       "\n",
       "    .dataframe thead th {\n",
       "        text-align: right;\n",
       "    }\n",
       "</style>\n",
       "<table border=\"1\" class=\"dataframe\">\n",
       "  <thead>\n",
       "    <tr style=\"text-align: right;\">\n",
       "      <th></th>\n",
       "      <th>marital</th>\n",
       "      <th>job</th>\n",
       "      <th>age</th>\n",
       "      <th>balance</th>\n",
       "      <th>rank</th>\n",
       "    </tr>\n",
       "  </thead>\n",
       "  <tbody>\n",
       "    <tr>\n",
       "      <th>0</th>\n",
       "      <td>single</td>\n",
       "      <td>admin.</td>\n",
       "      <td>43.0</td>\n",
       "      <td>56831.0</td>\n",
       "      <td>1.0</td>\n",
       "    </tr>\n",
       "    <tr>\n",
       "      <th>1</th>\n",
       "      <td>single</td>\n",
       "      <td>technician</td>\n",
       "      <td>39.0</td>\n",
       "      <td>45248.0</td>\n",
       "      <td>2.0</td>\n",
       "    </tr>\n",
       "    <tr>\n",
       "      <th>2</th>\n",
       "      <td>single</td>\n",
       "      <td>management</td>\n",
       "      <td>29.0</td>\n",
       "      <td>36252.0</td>\n",
       "      <td>3.0</td>\n",
       "    </tr>\n",
       "    <tr>\n",
       "      <th>3</th>\n",
       "      <td>married</td>\n",
       "      <td>retired</td>\n",
       "      <td>84.0</td>\n",
       "      <td>81204.0</td>\n",
       "      <td>1.0</td>\n",
       "    </tr>\n",
       "    <tr>\n",
       "      <th>4</th>\n",
       "      <td>married</td>\n",
       "      <td>retired</td>\n",
       "      <td>84.0</td>\n",
       "      <td>81204.0</td>\n",
       "      <td>1.0</td>\n",
       "    </tr>\n",
       "    <tr>\n",
       "      <th>5</th>\n",
       "      <td>married</td>\n",
       "      <td>blue-collar</td>\n",
       "      <td>52.0</td>\n",
       "      <td>66653.0</td>\n",
       "      <td>2.0</td>\n",
       "    </tr>\n",
       "    <tr>\n",
       "      <th>6</th>\n",
       "      <td>married</td>\n",
       "      <td>entrepreneur</td>\n",
       "      <td>56.0</td>\n",
       "      <td>51439.0</td>\n",
       "      <td>3.0</td>\n",
       "    </tr>\n",
       "    <tr>\n",
       "      <th>7</th>\n",
       "      <td>divorced</td>\n",
       "      <td>self-employed</td>\n",
       "      <td>61.0</td>\n",
       "      <td>52587.0</td>\n",
       "      <td>1.0</td>\n",
       "    </tr>\n",
       "    <tr>\n",
       "      <th>8</th>\n",
       "      <td>divorced</td>\n",
       "      <td>self-employed</td>\n",
       "      <td>61.0</td>\n",
       "      <td>52587.0</td>\n",
       "      <td>1.0</td>\n",
       "    </tr>\n",
       "    <tr>\n",
       "      <th>9</th>\n",
       "      <td>divorced</td>\n",
       "      <td>retired</td>\n",
       "      <td>75.0</td>\n",
       "      <td>37127.0</td>\n",
       "      <td>2.0</td>\n",
       "    </tr>\n",
       "    <tr>\n",
       "      <th>10</th>\n",
       "      <td>divorced</td>\n",
       "      <td>retired</td>\n",
       "      <td>74.0</td>\n",
       "      <td>29080.0</td>\n",
       "      <td>3.0</td>\n",
       "    </tr>\n",
       "  </tbody>\n",
       "</table>\n",
       "</div>"
      ],
      "text/plain": [
       "     marital            job   age  balance  rank\n",
       "0     single         admin.  43.0  56831.0   1.0\n",
       "1     single     technician  39.0  45248.0   2.0\n",
       "2     single     management  29.0  36252.0   3.0\n",
       "3    married        retired  84.0  81204.0   1.0\n",
       "4    married        retired  84.0  81204.0   1.0\n",
       "5    married    blue-collar  52.0  66653.0   2.0\n",
       "6    married   entrepreneur  56.0  51439.0   3.0\n",
       "7   divorced  self-employed  61.0  52587.0   1.0\n",
       "8   divorced  self-employed  61.0  52587.0   1.0\n",
       "9   divorced        retired  75.0  37127.0   2.0\n",
       "10  divorced        retired  74.0  29080.0   3.0"
      ]
     },
     "execution_count": 15,
     "metadata": {},
     "output_type": "execute_result"
    }
   ],
   "source": [
    "tmp = df.copy()\n",
    "tmp['rank'] = tmp.groupby('marital')['balance'].rank(\n",
    "    method='dense',\n",
    "    ascending=False\n",
    ")\n",
    "\n",
    "tmp[\n",
    "    tmp['rank'] < 4\n",
    "].sort_values(\n",
    "    by=['marital', 'rank'],\n",
    "    ascending=[False, True]\n",
    ")[\n",
    "    ['marital', 'job', 'age', 'balance', 'rank']\n",
    "].reset_index(drop=True)"
   ]
  },
  {
   "cell_type": "markdown",
   "metadata": {},
   "source": [
    "#### Transform job"
   ]
  },
  {
   "cell_type": "code",
   "execution_count": 38,
   "metadata": {},
   "outputs": [
    {
     "name": "stdout",
     "output_type": "stream",
     "text": [
      "Help on built-in function split:\n",
      "\n",
      "split(...) method of builtins.str instance\n",
      "    S.split(sep=None, maxsplit=-1) -> list of strings\n",
      "    \n",
      "    Return a list of the words in S, using sep as the\n",
      "    delimiter string.  If maxsplit is given, at most maxsplit\n",
      "    splits are done. If sep is not specified or is None, any\n",
      "    whitespace string is a separator and empty strings are\n",
      "    removed from the result.\n",
      "\n"
     ]
    }
   ],
   "source": [
    "a = 'a '\n",
    "a."
   ]
  },
  {
   "cell_type": "code",
   "execution_count": 45,
   "metadata": {},
   "outputs": [
    {
     "data": {
      "text/html": [
       "<div>\n",
       "<style scoped>\n",
       "    .dataframe tbody tr th:only-of-type {\n",
       "        vertical-align: middle;\n",
       "    }\n",
       "\n",
       "    .dataframe tbody tr th {\n",
       "        vertical-align: top;\n",
       "    }\n",
       "\n",
       "    .dataframe thead th {\n",
       "        text-align: right;\n",
       "    }\n",
       "</style>\n",
       "<table border=\"1\" class=\"dataframe\">\n",
       "  <thead>\n",
       "    <tr style=\"text-align: right;\">\n",
       "      <th></th>\n",
       "      <th>job</th>\n",
       "      <th>upper</th>\n",
       "      <th>alpha</th>\n",
       "      <th>lower</th>\n",
       "      <th>trimmed</th>\n",
       "      <th>length</th>\n",
       "      <th>split</th>\n",
       "      <th>word_count</th>\n",
       "      <th>partial</th>\n",
       "      <th>concat</th>\n",
       "    </tr>\n",
       "  </thead>\n",
       "  <tbody>\n",
       "    <tr>\n",
       "      <th>0</th>\n",
       "      <td>admin.</td>\n",
       "      <td>ADMIN.</td>\n",
       "      <td>admin</td>\n",
       "      <td>admin</td>\n",
       "      <td>admin</td>\n",
       "      <td>5</td>\n",
       "      <td>[admin]</td>\n",
       "      <td>1</td>\n",
       "      <td>ad</td>\n",
       "      <td>admin~temp</td>\n",
       "    </tr>\n",
       "    <tr>\n",
       "      <th>11</th>\n",
       "      <td>blue-collar</td>\n",
       "      <td>BLUE-COLLAR</td>\n",
       "      <td>blue collar</td>\n",
       "      <td>blue collar</td>\n",
       "      <td>blue collar</td>\n",
       "      <td>11</td>\n",
       "      <td>[blue, collar]</td>\n",
       "      <td>2</td>\n",
       "      <td>bl</td>\n",
       "      <td>blue collar~temp</td>\n",
       "    </tr>\n",
       "    <tr>\n",
       "      <th>39</th>\n",
       "      <td>entrepreneur</td>\n",
       "      <td>ENTREPRENEUR</td>\n",
       "      <td>entrepreneur</td>\n",
       "      <td>entrepreneur</td>\n",
       "      <td>entrepreneur</td>\n",
       "      <td>12</td>\n",
       "      <td>[entrepreneur]</td>\n",
       "      <td>1</td>\n",
       "      <td>en</td>\n",
       "      <td>entrepreneur~temp</td>\n",
       "    </tr>\n",
       "    <tr>\n",
       "      <th>47</th>\n",
       "      <td>housemaid</td>\n",
       "      <td>HOUSEMAID</td>\n",
       "      <td>housemaid</td>\n",
       "      <td>housemaid</td>\n",
       "      <td>housemaid</td>\n",
       "      <td>9</td>\n",
       "      <td>[housemaid]</td>\n",
       "      <td>1</td>\n",
       "      <td>ho</td>\n",
       "      <td>housemaid~temp</td>\n",
       "    </tr>\n",
       "    <tr>\n",
       "      <th>5</th>\n",
       "      <td>management</td>\n",
       "      <td>MANAGEMENT</td>\n",
       "      <td>management</td>\n",
       "      <td>management</td>\n",
       "      <td>management</td>\n",
       "      <td>10</td>\n",
       "      <td>[management]</td>\n",
       "      <td>1</td>\n",
       "      <td>ma</td>\n",
       "      <td>management~temp</td>\n",
       "    </tr>\n",
       "    <tr>\n",
       "      <th>7</th>\n",
       "      <td>retired</td>\n",
       "      <td>RETIRED</td>\n",
       "      <td>retired</td>\n",
       "      <td>retired</td>\n",
       "      <td>retired</td>\n",
       "      <td>7</td>\n",
       "      <td>[retired]</td>\n",
       "      <td>1</td>\n",
       "      <td>re</td>\n",
       "      <td>retired~temp</td>\n",
       "    </tr>\n",
       "    <tr>\n",
       "      <th>77</th>\n",
       "      <td>self-employed</td>\n",
       "      <td>SELF-EMPLOYED</td>\n",
       "      <td>self employed</td>\n",
       "      <td>self employed</td>\n",
       "      <td>self employed</td>\n",
       "      <td>13</td>\n",
       "      <td>[self, employed]</td>\n",
       "      <td>2</td>\n",
       "      <td>se</td>\n",
       "      <td>self employed~temp</td>\n",
       "    </tr>\n",
       "    <tr>\n",
       "      <th>3</th>\n",
       "      <td>services</td>\n",
       "      <td>SERVICES</td>\n",
       "      <td>services</td>\n",
       "      <td>services</td>\n",
       "      <td>services</td>\n",
       "      <td>8</td>\n",
       "      <td>[services]</td>\n",
       "      <td>1</td>\n",
       "      <td>se</td>\n",
       "      <td>services~temp</td>\n",
       "    </tr>\n",
       "    <tr>\n",
       "      <th>162</th>\n",
       "      <td>student</td>\n",
       "      <td>STUDENT</td>\n",
       "      <td>student</td>\n",
       "      <td>student</td>\n",
       "      <td>student</td>\n",
       "      <td>7</td>\n",
       "      <td>[student]</td>\n",
       "      <td>1</td>\n",
       "      <td>st</td>\n",
       "      <td>student~temp</td>\n",
       "    </tr>\n",
       "    <tr>\n",
       "      <th>2</th>\n",
       "      <td>technician</td>\n",
       "      <td>TECHNICIAN</td>\n",
       "      <td>technician</td>\n",
       "      <td>technician</td>\n",
       "      <td>technician</td>\n",
       "      <td>10</td>\n",
       "      <td>[technician]</td>\n",
       "      <td>1</td>\n",
       "      <td>te</td>\n",
       "      <td>technician~temp</td>\n",
       "    </tr>\n",
       "    <tr>\n",
       "      <th>24</th>\n",
       "      <td>unemployed</td>\n",
       "      <td>UNEMPLOYED</td>\n",
       "      <td>unemployed</td>\n",
       "      <td>unemployed</td>\n",
       "      <td>unemployed</td>\n",
       "      <td>10</td>\n",
       "      <td>[unemployed]</td>\n",
       "      <td>1</td>\n",
       "      <td>un</td>\n",
       "      <td>unemployed~temp</td>\n",
       "    </tr>\n",
       "    <tr>\n",
       "      <th>66</th>\n",
       "      <td>unknown</td>\n",
       "      <td>UNKNOWN</td>\n",
       "      <td>unknown</td>\n",
       "      <td>unknown</td>\n",
       "      <td>unknown</td>\n",
       "      <td>7</td>\n",
       "      <td>[unknown]</td>\n",
       "      <td>1</td>\n",
       "      <td>un</td>\n",
       "      <td>unknown~temp</td>\n",
       "    </tr>\n",
       "  </tbody>\n",
       "</table>\n",
       "</div>"
      ],
      "text/plain": [
       "               job          upper          alpha          lower  \\\n",
       "0           admin.         ADMIN.         admin          admin    \n",
       "11     blue-collar    BLUE-COLLAR    blue collar    blue collar   \n",
       "39    entrepreneur   ENTREPRENEUR   entrepreneur   entrepreneur   \n",
       "47       housemaid      HOUSEMAID      housemaid      housemaid   \n",
       "5       management     MANAGEMENT     management     management   \n",
       "7          retired        RETIRED        retired        retired   \n",
       "77   self-employed  SELF-EMPLOYED  self employed  self employed   \n",
       "3         services       SERVICES       services       services   \n",
       "162        student        STUDENT        student        student   \n",
       "2       technician     TECHNICIAN     technician     technician   \n",
       "24      unemployed     UNEMPLOYED     unemployed     unemployed   \n",
       "66         unknown        UNKNOWN        unknown        unknown   \n",
       "\n",
       "           trimmed  length             split  word_count partial  \\\n",
       "0            admin       5           [admin]           1      ad   \n",
       "11     blue collar      11    [blue, collar]           2      bl   \n",
       "39    entrepreneur      12    [entrepreneur]           1      en   \n",
       "47       housemaid       9       [housemaid]           1      ho   \n",
       "5       management      10      [management]           1      ma   \n",
       "7          retired       7         [retired]           1      re   \n",
       "77   self employed      13  [self, employed]           2      se   \n",
       "3         services       8        [services]           1      se   \n",
       "162        student       7         [student]           1      st   \n",
       "2       technician      10      [technician]           1      te   \n",
       "24      unemployed      10      [unemployed]           1      un   \n",
       "66         unknown       7         [unknown]           1      un   \n",
       "\n",
       "                 concat  \n",
       "0            admin~temp  \n",
       "11     blue collar~temp  \n",
       "39    entrepreneur~temp  \n",
       "47       housemaid~temp  \n",
       "5       management~temp  \n",
       "7          retired~temp  \n",
       "77   self employed~temp  \n",
       "3         services~temp  \n",
       "162        student~temp  \n",
       "2       technician~temp  \n",
       "24      unemployed~temp  \n",
       "66         unknown~temp  "
      ]
     },
     "execution_count": 45,
     "metadata": {},
     "output_type": "execute_result"
    }
   ],
   "source": [
    "job_df = df[['job']].drop_duplicates()\n",
    "\n",
    "job_df = job_df.sort_values('job')\n",
    "job_df['upper'] = job_df['job'].apply(lambda x: x.upper())\n",
    "job_df['alpha'] = job_df['job'].apply(lambda x: re.sub('[^a-zA-Z]', ' ', x))\n",
    "job_df['lower'] = job_df['alpha'].apply(lambda x: x.lower())\n",
    "job_df['trimmed'] = job_df['lower'].apply(lambda x: x.strip())\n",
    "job_df['length'] = job_df['trimmed'].apply(lambda x: len(x))\n",
    "job_df['split'] = job_df['trimmed'].apply(lambda x: x.split(sep=' '))\n",
    "job_df['word_count'] = job_df['split'].apply(lambda x: len(x))\n",
    "job_df['partial'] = job_df['trimmed'].apply(lambda x: x[0:2])\n",
    "job_df['concat'] = job_df['trimmed'].apply(lambda x: '~'.join([x, 'temp']))\n",
    "\n",
    "job_df"
   ]
  },
  {
   "cell_type": "markdown",
   "metadata": {},
   "source": [
    "#### Create new column for negative balance check"
   ]
  },
  {
   "cell_type": "code",
   "execution_count": 16,
   "metadata": {},
   "outputs": [
    {
     "data": {
      "text/plain": [
       "age                 float32\n",
       "job                  object\n",
       "marital              object\n",
       "education            object\n",
       "default              object\n",
       "balance             float32\n",
       "housing              object\n",
       "loan                 object\n",
       "contact              object\n",
       "day                 float32\n",
       "month                object\n",
       "duration            float32\n",
       "campaign            float32\n",
       "pdays               float32\n",
       "previous            float32\n",
       "poutcome             object\n",
       "deposit              object\n",
       "negative_balance      int64\n",
       "dtype: object"
      ]
     },
     "execution_count": 16,
     "metadata": {},
     "output_type": "execute_result"
    }
   ],
   "source": [
    "df['negative_balance'] = df['balance'].apply(\n",
    "    lambda x: 1 if x < 0 else 0\n",
    ")\n",
    "\n",
    "df.dtypes"
   ]
  },
  {
   "cell_type": "markdown",
   "metadata": {},
   "source": [
    "#### Check if negative balance is a one-off or common occurrence"
   ]
  },
  {
   "cell_type": "code",
   "execution_count": 17,
   "metadata": {},
   "outputs": [
    {
     "data": {
      "text/plain": [
       "negative_balance\n",
       "0    10474\n",
       "1      688\n",
       "Name: negative_balance, dtype: int64"
      ]
     },
     "execution_count": 17,
     "metadata": {},
     "output_type": "execute_result"
    }
   ],
   "source": [
    "df.groupby('negative_balance')['negative_balance'].count()"
   ]
  },
  {
   "cell_type": "markdown",
   "metadata": {},
   "source": [
    "#### Rename created column"
   ]
  },
  {
   "cell_type": "code",
   "execution_count": 18,
   "metadata": {},
   "outputs": [
    {
     "data": {
      "text/plain": [
       "age          float32\n",
       "job           object\n",
       "marital       object\n",
       "education     object\n",
       "default       object\n",
       "balance      float32\n",
       "housing       object\n",
       "loan          object\n",
       "contact       object\n",
       "day          float32\n",
       "month         object\n",
       "duration     float32\n",
       "campaign     float32\n",
       "pdays        float32\n",
       "previous     float32\n",
       "poutcome      object\n",
       "deposit       object\n",
       "neg_bal        int64\n",
       "dtype: object"
      ]
     },
     "execution_count": 18,
     "metadata": {},
     "output_type": "execute_result"
    }
   ],
   "source": [
    "df = df.rename(\n",
    "    columns={'negative_balance': 'neg_bal'}\n",
    ")\n",
    "\n",
    "df.dtypes"
   ]
  },
  {
   "cell_type": "markdown",
   "metadata": {},
   "source": [
    "#### Drop created column"
   ]
  },
  {
   "cell_type": "code",
   "execution_count": 19,
   "metadata": {},
   "outputs": [
    {
     "data": {
      "text/plain": [
       "age          float32\n",
       "job           object\n",
       "marital       object\n",
       "education     object\n",
       "default       object\n",
       "balance      float32\n",
       "housing       object\n",
       "loan          object\n",
       "contact       object\n",
       "day          float32\n",
       "month         object\n",
       "duration     float32\n",
       "campaign     float32\n",
       "pdays        float32\n",
       "previous     float32\n",
       "poutcome      object\n",
       "deposit       object\n",
       "dtype: object"
      ]
     },
     "execution_count": 19,
     "metadata": {},
     "output_type": "execute_result"
    }
   ],
   "source": [
    "df = df.drop(columns='neg_bal')\n",
    "\n",
    "df.dtypes"
   ]
  },
  {
   "cell_type": "markdown",
   "metadata": {},
   "source": [
    "#### Create new dataframe"
   ]
  },
  {
   "cell_type": "code",
   "execution_count": 20,
   "metadata": {},
   "outputs": [
    {
     "data": {
      "text/html": [
       "<div>\n",
       "<style scoped>\n",
       "    .dataframe tbody tr th:only-of-type {\n",
       "        vertical-align: middle;\n",
       "    }\n",
       "\n",
       "    .dataframe tbody tr th {\n",
       "        vertical-align: top;\n",
       "    }\n",
       "\n",
       "    .dataframe thead th {\n",
       "        text-align: right;\n",
       "    }\n",
       "</style>\n",
       "<table border=\"1\" class=\"dataframe\">\n",
       "  <thead>\n",
       "    <tr style=\"text-align: right;\">\n",
       "      <th></th>\n",
       "      <th>month</th>\n",
       "      <th>month_num</th>\n",
       "    </tr>\n",
       "  </thead>\n",
       "  <tbody>\n",
       "    <tr>\n",
       "      <th>0</th>\n",
       "      <td>jan</td>\n",
       "      <td>1</td>\n",
       "    </tr>\n",
       "    <tr>\n",
       "      <th>1</th>\n",
       "      <td>feb</td>\n",
       "      <td>2</td>\n",
       "    </tr>\n",
       "    <tr>\n",
       "      <th>2</th>\n",
       "      <td>mar</td>\n",
       "      <td>3</td>\n",
       "    </tr>\n",
       "    <tr>\n",
       "      <th>3</th>\n",
       "      <td>apr</td>\n",
       "      <td>4</td>\n",
       "    </tr>\n",
       "    <tr>\n",
       "      <th>4</th>\n",
       "      <td>may</td>\n",
       "      <td>5</td>\n",
       "    </tr>\n",
       "    <tr>\n",
       "      <th>5</th>\n",
       "      <td>jun</td>\n",
       "      <td>6</td>\n",
       "    </tr>\n",
       "    <tr>\n",
       "      <th>6</th>\n",
       "      <td>jul</td>\n",
       "      <td>7</td>\n",
       "    </tr>\n",
       "    <tr>\n",
       "      <th>7</th>\n",
       "      <td>aug</td>\n",
       "      <td>8</td>\n",
       "    </tr>\n",
       "    <tr>\n",
       "      <th>8</th>\n",
       "      <td>sep</td>\n",
       "      <td>9</td>\n",
       "    </tr>\n",
       "    <tr>\n",
       "      <th>9</th>\n",
       "      <td>oct</td>\n",
       "      <td>10</td>\n",
       "    </tr>\n",
       "    <tr>\n",
       "      <th>10</th>\n",
       "      <td>nov</td>\n",
       "      <td>11</td>\n",
       "    </tr>\n",
       "    <tr>\n",
       "      <th>11</th>\n",
       "      <td>dec</td>\n",
       "      <td>12</td>\n",
       "    </tr>\n",
       "  </tbody>\n",
       "</table>\n",
       "</div>"
      ],
      "text/plain": [
       "   month  month_num\n",
       "0    jan          1\n",
       "1    feb          2\n",
       "2    mar          3\n",
       "3    apr          4\n",
       "4    may          5\n",
       "5    jun          6\n",
       "6    jul          7\n",
       "7    aug          8\n",
       "8    sep          9\n",
       "9    oct         10\n",
       "10   nov         11\n",
       "11   dec         12"
      ]
     },
     "execution_count": 20,
     "metadata": {},
     "output_type": "execute_result"
    }
   ],
   "source": [
    "month_dict = [\n",
    "    {'month': 'jan', 'month_num': 1},\n",
    "    {'month': 'feb', 'month_num': 2},\n",
    "    {'month': 'mar', 'month_num': 3},\n",
    "    {'month': 'apr', 'month_num': 4},\n",
    "    {'month': 'may', 'month_num': 5},\n",
    "    {'month': 'jun', 'month_num': 6},\n",
    "    {'month': 'jul', 'month_num': 7},\n",
    "    {'month': 'aug', 'month_num': 8},\n",
    "    {'month': 'sep', 'month_num': 9},\n",
    "    {'month': 'oct', 'month_num': 10},\n",
    "    {'month': 'nov', 'month_num': 11},\n",
    "    {'month': 'dec', 'month_num': 12}\n",
    "]\n",
    "\n",
    "month_df = pd.DataFrame(month_dict)\n",
    "\n",
    "month_df"
   ]
  },
  {
   "cell_type": "markdown",
   "metadata": {},
   "source": [
    "#### Join dataframes"
   ]
  },
  {
   "cell_type": "code",
   "execution_count": 21,
   "metadata": {},
   "outputs": [
    {
     "data": {
      "text/html": [
       "<div>\n",
       "<style scoped>\n",
       "    .dataframe tbody tr th:only-of-type {\n",
       "        vertical-align: middle;\n",
       "    }\n",
       "\n",
       "    .dataframe tbody tr th {\n",
       "        vertical-align: top;\n",
       "    }\n",
       "\n",
       "    .dataframe thead th {\n",
       "        text-align: right;\n",
       "    }\n",
       "</style>\n",
       "<table border=\"1\" class=\"dataframe\">\n",
       "  <thead>\n",
       "    <tr style=\"text-align: right;\">\n",
       "      <th></th>\n",
       "      <th>age</th>\n",
       "      <th>job</th>\n",
       "      <th>marital</th>\n",
       "      <th>education</th>\n",
       "      <th>default</th>\n",
       "      <th>balance</th>\n",
       "      <th>housing</th>\n",
       "      <th>loan</th>\n",
       "      <th>contact</th>\n",
       "      <th>day</th>\n",
       "      <th>month</th>\n",
       "      <th>duration</th>\n",
       "      <th>campaign</th>\n",
       "      <th>pdays</th>\n",
       "      <th>previous</th>\n",
       "      <th>poutcome</th>\n",
       "      <th>deposit</th>\n",
       "      <th>month_num</th>\n",
       "    </tr>\n",
       "  </thead>\n",
       "  <tbody>\n",
       "    <tr>\n",
       "      <th>0</th>\n",
       "      <td>59.0</td>\n",
       "      <td>admin.</td>\n",
       "      <td>married</td>\n",
       "      <td>secondary</td>\n",
       "      <td>no</td>\n",
       "      <td>2343.0</td>\n",
       "      <td>yes</td>\n",
       "      <td>no</td>\n",
       "      <td>unknown</td>\n",
       "      <td>5.0</td>\n",
       "      <td>may</td>\n",
       "      <td>1042.0</td>\n",
       "      <td>1.0</td>\n",
       "      <td>-1.0</td>\n",
       "      <td>0.0</td>\n",
       "      <td>unknown</td>\n",
       "      <td>yes</td>\n",
       "      <td>5</td>\n",
       "    </tr>\n",
       "    <tr>\n",
       "      <th>1</th>\n",
       "      <td>56.0</td>\n",
       "      <td>admin.</td>\n",
       "      <td>married</td>\n",
       "      <td>secondary</td>\n",
       "      <td>no</td>\n",
       "      <td>45.0</td>\n",
       "      <td>no</td>\n",
       "      <td>no</td>\n",
       "      <td>unknown</td>\n",
       "      <td>5.0</td>\n",
       "      <td>may</td>\n",
       "      <td>1467.0</td>\n",
       "      <td>1.0</td>\n",
       "      <td>-1.0</td>\n",
       "      <td>0.0</td>\n",
       "      <td>unknown</td>\n",
       "      <td>yes</td>\n",
       "      <td>5</td>\n",
       "    </tr>\n",
       "    <tr>\n",
       "      <th>2</th>\n",
       "      <td>41.0</td>\n",
       "      <td>technician</td>\n",
       "      <td>married</td>\n",
       "      <td>secondary</td>\n",
       "      <td>no</td>\n",
       "      <td>1270.0</td>\n",
       "      <td>yes</td>\n",
       "      <td>no</td>\n",
       "      <td>unknown</td>\n",
       "      <td>5.0</td>\n",
       "      <td>may</td>\n",
       "      <td>1389.0</td>\n",
       "      <td>1.0</td>\n",
       "      <td>-1.0</td>\n",
       "      <td>0.0</td>\n",
       "      <td>unknown</td>\n",
       "      <td>yes</td>\n",
       "      <td>5</td>\n",
       "    </tr>\n",
       "  </tbody>\n",
       "</table>\n",
       "</div>"
      ],
      "text/plain": [
       "    age         job  marital  education default  balance housing loan  \\\n",
       "0  59.0      admin.  married  secondary      no   2343.0     yes   no   \n",
       "1  56.0      admin.  married  secondary      no     45.0      no   no   \n",
       "2  41.0  technician  married  secondary      no   1270.0     yes   no   \n",
       "\n",
       "   contact  day month  duration  campaign  pdays  previous poutcome deposit  \\\n",
       "0  unknown  5.0   may    1042.0       1.0   -1.0       0.0  unknown     yes   \n",
       "1  unknown  5.0   may    1467.0       1.0   -1.0       0.0  unknown     yes   \n",
       "2  unknown  5.0   may    1389.0       1.0   -1.0       0.0  unknown     yes   \n",
       "\n",
       "   month_num  \n",
       "0          5  \n",
       "1          5  \n",
       "2          5  "
      ]
     },
     "execution_count": 21,
     "metadata": {},
     "output_type": "execute_result"
    }
   ],
   "source": [
    "df = df.merge(\n",
    "    month_df,\n",
    "    on='month',\n",
    "    how='inner'\n",
    ")\n",
    "\n",
    "df.head(3)"
   ]
  },
  {
   "cell_type": "markdown",
   "metadata": {},
   "source": [
    "#### Union dataframes"
   ]
  },
  {
   "cell_type": "code",
   "execution_count": 22,
   "metadata": {},
   "outputs": [
    {
     "data": {
      "text/plain": [
       "(22324, 18)"
      ]
     },
     "execution_count": 22,
     "metadata": {},
     "output_type": "execute_result"
    }
   ],
   "source": [
    "df = pd.concat([df, df])\n",
    "\n",
    "df.shape"
   ]
  },
  {
   "cell_type": "markdown",
   "metadata": {},
   "source": [
    "#### Deduplicate dataframe"
   ]
  },
  {
   "cell_type": "code",
   "execution_count": 23,
   "metadata": {},
   "outputs": [
    {
     "data": {
      "text/plain": [
       "(11162, 18)"
      ]
     },
     "execution_count": 23,
     "metadata": {},
     "output_type": "execute_result"
    }
   ],
   "source": [
    "df = df.drop_duplicates()\n",
    "\n",
    "df.shape"
   ]
  }
 ],
 "metadata": {
  "kernelspec": {
   "display_name": "Python 3",
   "language": "python",
   "name": "python3"
  },
  "language_info": {
   "codemirror_mode": {
    "name": "ipython",
    "version": 3
   },
   "file_extension": ".py",
   "mimetype": "text/x-python",
   "name": "python",
   "nbconvert_exporter": "python",
   "pygments_lexer": "ipython3",
   "version": "3.6.10"
  }
 },
 "nbformat": 4,
 "nbformat_minor": 2
}
